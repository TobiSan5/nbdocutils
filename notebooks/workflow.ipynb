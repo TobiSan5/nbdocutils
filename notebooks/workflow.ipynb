{
 "cells": [
  {
   "cell_type": "markdown",
   "id": "f74b0991-8d7c-4ce4-8d32-f304597929df",
   "metadata": {},
   "source": [
    "# Rationale\n",
    "Jupyter Notebook could be the backend for creating reports from data-analysis and -manipulation.\n",
    "\n"
   ]
  },
  {
   "cell_type": "markdown",
   "id": "3ebe110f-2f0b-4da4-bf7d-52de626c8819",
   "metadata": {},
   "source": [
    "# Project resources\n",
    "## Notebook editing and formatting\n",
    "- __[IBM Markdown Cheatsheet](https://www.ibm.com/docs/en/watson-studio-local/1.2.3?topic=notebooks-markdown-jupyter-cheatsheet)__"
   ]
  },
  {
   "cell_type": "markdown",
   "id": "e940f92c-86ce-440b-bc2e-e35e271ff450",
   "metadata": {},
   "source": [
    "# Project history and notes\n",
    "## 2022-07-15\n",
    "- Discovering __[nbconvert](https://nbconvert.readthedocs.io/en/latest/)__ as an utility that is parallell to this project.\n",
    "    - Restricts Python to version 3.9 \n",
    "        - -> `conda create -n nbdocutils python=3.9` \n",
    "- Exploring a setup for a Python package\n",
    "    - Guide __[Cookiecutter Tutorial](https://cookiecutter-pypackage.readthedocs.io/en/latest/tutorial.html#step-1-install-cookiecutter)__\n",
    "    - Guide __[Cookiecutter Documentation](https://cookiecutter.readthedocs.io/en/stable/README.html)__\n",
    "    - -> `cookiecutter https://github.com/audreyr/cookiecutter-pypackage.git`\n",
    "- Starting GitHub repository and initilising project with Git\n",
    "    - __[Guide](https://training.github.com/git-guides/git-init/)__\n",
    "        - -> __[TobiSan5/nbdocutils](https://github.com/TobiSan5/nbdocutils/tree/trunk)__\n",
    "- Selecting lisence for project (MIT)\n",
    "    - __[StackExchange item](https://opensource.stackexchange.com/questions/217/what-are-the-essential-differences-between-the-bsd-and-mit-licences)__\n",
    "    \n",
    "## 2022-07-16\n",
    "- Solving git issues with GitHub auth\n",
    "    - Fails, due to auth issues\n",
    "        - Guide __[GitHub authentication for Git](https://github.blog/2020-12-15-token-authentication-requirements-for-git-operations/)__\n",
    "        - Guide __[GitHub CLI](https://cli.github.com/manual/)__\n",
    "        - `conda install git`\n",
    "        - `conda install -c conda-forge gh`\n",
    "        - `gh auth setup-git`\n",
    "        - `conda remove gh` (note: install gh system-wide)\n",
    "    - Works\n",
    "        - VS Code with *GitHub Pull Requests and Issues* extension\n"
   ]
  },
  {
   "cell_type": "markdown",
   "id": "972eecea-6085-4c75-bc64-2839653b3e04",
   "metadata": {},
   "source": [
    "# Environment\n",
    "## Development\n",
    "- __[cookiecutter]()__\n",
    "- __[VSCode::GitHub Pull Requests and Issues]()__\n",
    "## Dependencies\n",
    "- __[jupyterlab/nbconvert](https://nbconvert.readthedocs.io/en/latest/install.html)__\n",
    "- __[pandoc](https://pypi.org/project/pandoc/)__\n",
    "- __[pyppeteer](https://pypi.org/project/pyppeteer/)__\n",
    "- __[Click](https://pypi.org/project/click8/)__"
   ]
  },
  {
   "cell_type": "code",
   "execution_count": null,
   "id": "d26825fb-653e-4bb8-8b9b-93b082497ca5",
   "metadata": {},
   "outputs": [],
   "source": []
  }
 ],
 "metadata": {
  "kernelspec": {
   "display_name": "Python 3 (ipykernel)",
   "language": "python",
   "name": "python3"
  },
  "language_info": {
   "codemirror_mode": {
    "name": "ipython",
    "version": 3
   },
   "file_extension": ".py",
   "mimetype": "text/x-python",
   "name": "python",
   "nbconvert_exporter": "python",
   "pygments_lexer": "ipython3",
   "version": "3.9.12"
  }
 },
 "nbformat": 4,
 "nbformat_minor": 5
}
