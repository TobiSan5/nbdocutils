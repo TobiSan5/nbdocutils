{
 "cells": [
  {
   "cell_type": "code",
   "execution_count": 5,
   "metadata": {},
   "outputs": [],
   "source": [
    "from pathlib import Path\n",
    "cwd = Path.cwd()\n",
    "import sys\n"
   ]
  },
  {
   "cell_type": "code",
   "execution_count": 2,
   "metadata": {},
   "outputs": [
    {
     "name": "stdout",
     "output_type": "stream",
     "text": [
      "C:\\Dropbox\\CODE\\Python3\\nbdocutils\\notebooks\n",
      "C:\\ProgramData\\Miniconda3\\envs\\nbdocutils\\python39.zip\n",
      "C:\\ProgramData\\Miniconda3\\envs\\nbdocutils\\DLLs\n",
      "C:\\ProgramData\\Miniconda3\\envs\\nbdocutils\\lib\n",
      "C:\\ProgramData\\Miniconda3\\envs\\nbdocutils\n",
      "\n",
      "C:\\ProgramData\\Miniconda3\\envs\\nbdocutils\\lib\\site-packages\n",
      "C:\\ProgramData\\Miniconda3\\envs\\nbdocutils\\lib\\site-packages\\win32\n",
      "C:\\ProgramData\\Miniconda3\\envs\\nbdocutils\\lib\\site-packages\\win32\\lib\n"
     ]
    }
   ],
   "source": [
    "for p in sys.path: print(p)"
   ]
  },
  {
   "cell_type": "code",
   "execution_count": 6,
   "metadata": {},
   "outputs": [
    {
     "data": {
      "text/plain": [
       "'C:/Dropbox/CODE/Python3/nbdocutils'"
      ]
     },
     "execution_count": 6,
     "metadata": {},
     "output_type": "execute_result"
    }
   ],
   "source": [
    "cwd.parent.as_posix()"
   ]
  },
  {
   "cell_type": "code",
   "execution_count": 7,
   "metadata": {},
   "outputs": [
    {
     "data": {
      "text/plain": [
       "'C:/Dropbox/CODE/Python3/nbdocutils'"
      ]
     },
     "execution_count": 7,
     "metadata": {},
     "output_type": "execute_result"
    }
   ],
   "source": [
    "sys.path.append(cwd.parent.as_posix())\n",
    "sys.path[-1]"
   ]
  },
  {
   "cell_type": "code",
   "execution_count": 8,
   "metadata": {},
   "outputs": [],
   "source": [
    "from nbdocutils.htmlblocks import BlueAlertBlock"
   ]
  },
  {
   "cell_type": "code",
   "execution_count": 9,
   "metadata": {},
   "outputs": [],
   "source": [
    "obj = BlueAlertBlock(lead_in=\"Testing\", text=\"This should be a blue box\")"
   ]
  },
  {
   "cell_type": "code",
   "execution_count": 10,
   "metadata": {},
   "outputs": [
    {
     "data": {
      "text/html": [
       "\n",
       "        <div class=\"alert alert-block alert-info\">\n",
       "            <b>Testing:</b> This should be a blue box\n",
       "        </div>\n",
       "        "
      ],
      "text/plain": [
       "<IPython.core.display.HTML object>"
      ]
     },
     "execution_count": 10,
     "metadata": {},
     "output_type": "execute_result"
    }
   ],
   "source": [
    "obj.html"
   ]
  },
  {
   "cell_type": "code",
   "execution_count": 11,
   "metadata": {},
   "outputs": [
    {
     "data": {
      "text/html": [
       "\n",
       "        <div class=\"alert alert-block alert-info\">\n",
       "            <b>Testing:</b> This should be a blue box\n",
       "        </div>\n",
       "        "
      ],
      "text/plain": [
       "<IPython.core.display.HTML object>"
      ]
     },
     "metadata": {},
     "output_type": "display_data"
    }
   ],
   "source": [
    "from IPython.display import display\n",
    "display(obj.html)"
   ]
  },
  {
   "cell_type": "code",
   "execution_count": 14,
   "metadata": {},
   "outputs": [
    {
     "name": "stdout",
     "output_type": "stream",
     "text": [
      "\n",
      "        <div class=\"alert alert-block alert-info\">\n",
      "            <b>Testing:</b> This should be a blue box\n",
      "        </div>\n",
      "        \n"
     ]
    }
   ],
   "source": [
    "print(obj)"
   ]
  },
  {
   "cell_type": "code",
   "execution_count": null,
   "metadata": {},
   "outputs": [],
   "source": []
  }
 ],
 "metadata": {
  "interpreter": {
   "hash": "a99cab76615bc033394310e9033775ee029096d6b2f618b2977e67b617b3847f"
  },
  "kernelspec": {
   "display_name": "Python 3 (ipykernel)",
   "language": "python",
   "name": "python3"
  },
  "language_info": {
   "codemirror_mode": {
    "name": "ipython",
    "version": 3
   },
   "file_extension": ".py",
   "mimetype": "text/x-python",
   "name": "python",
   "nbconvert_exporter": "python",
   "pygments_lexer": "ipython3",
   "version": "3.9.12"
  }
 },
 "nbformat": 4,
 "nbformat_minor": 4
}
